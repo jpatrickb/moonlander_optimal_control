{
 "cells": [
  {
   "cell_type": "code",
   "execution_count": 3,
   "metadata": {},
   "outputs": [],
   "source": [
    "import numpy as np\n",
    "from scipy.integrate import solve_bvp\n",
    "import matplotlib.pyplot as plt\n",
    "from matplotlib.animation import FuncAnimation\n",
    "from matplotlib import animation\n",
    "\n",
    "animation.writer = animation.writers['ffmpeg']"
   ]
  },
  {
   "cell_type": "code",
   "execution_count": 28,
   "metadata": {},
   "outputs": [
    {
     "data": {
      "image/png": "[encoded data removed]",
      "text/plain": [
       "<Figure size 432x288 with 1 Axes>"
      ]
     },
     "metadata": {
      "needs_background": "light"
     },
     "output_type": "display_data"
    }
   ],
   "source": [
    "def lunar_lander(pos_init, v_init, alpha=1, beta=3, gamma=3, t_steps=200):\n",
    "    x_init, y_init = pos_init\n",
    "\n",
    "    def ode(t, y):\n",
    "        # print(\" in ode\")\n",
    "        # print(y[2].shape)\n",
    "        # print(y[3].shape)\n",
    "        # print((y[6]/(2*alpha)).shape)\n",
    "        # print((y[6]/(2*alpha)).shape)\n",
    "        return np.array([\n",
    "            y[2],\n",
    "            y[3],\n",
    "            y[6] / (2*alpha),\n",
    "            y[7] / (2*alpha),\n",
    "            np.zeros_like(y[0]), \n",
    "            np.zeros_like(y[0]), \n",
    "            y[4],\n",
    "            y[5]\n",
    "        ])\n",
    "    \n",
    "        # Define the boundary conditions\n",
    "    def bc(ya, yb):\n",
    "        return np.array([\n",
    "            ya[0] - x_init,\n",
    "            ya[1] - y_init,\n",
    "            ya[2] - v_init,\n",
    "            ya[3],\n",
    "            yb[4],\n",
    "            yb[1],\n",
    "            yb[6] - 2*beta*yb[2],\n",
    "            yb[7] - 2*beta*yb[3]\n",
    "        ])\n",
    "    \n",
    "    # Define the initial guess\n",
    "    t_eval = np.linspace(0, 1, t_steps) # how to make this free?\n",
    "    y0 = np.ones((8, t_steps))\n",
    "\n",
    "    # print(y0.shape)\n",
    "    # print(y0[0].shape)\n",
    "    # print(np.linspace(x0, x0, t_steps).shape)\n",
    "\n",
    "    y0[0] *= x_init\n",
    "    y0[1] = np.linspace(y_init, 0, t_steps)    # y goes to 0\n",
    "    y0[2] = np.linspace(v_init, 0, t_steps) # vx goes to 0\n",
    "    y0[3] = np.linspace(0, 0, t_steps)     # vy stays 0\n",
    "\n",
    "    # Solve the ODE\n",
    "    sol = solve_bvp(ode, bc, t_eval, y0, max_nodes=30000)\n",
    "\n",
    "    x = sol.y[0]\n",
    "    y = sol.y[1]\n",
    "    xp = sol.y[2]\n",
    "    yp = sol.y[3]\n",
    "    t_vals = sol.x\n",
    "    # plt.plot(x, y)\n",
    "\n",
    "    # print(sol.y.shape)\n",
    "\n",
    "\n",
    "    fig, ax = plt.subplots()\n",
    "    ax.set_xlim(np.min(x)-0.5, np.max(x)+0.5)\n",
    "    ax.set_ylim(0, np.max(y)+0.5)\n",
    "\n",
    "    def animate(t):\n",
    "        ax.clear()\n",
    "        ax.set_xlim(np.min(x)-0.5, np.max(x)+0.5)\n",
    "        ax.set_ylim(0, np.max(y)+0.5)\n",
    "        # idx = t_vals.index(t)\n",
    "        # line = ax.plot(*sol.sol(np.linspace(0, t, 200))[:2, :])\n",
    "        line = ax.plot(x[:t], y[:t])\n",
    "        return line\n",
    "        \n",
    "    ani = FuncAnimation(fig, animate, frames=np.arange(t_steps), interval=50)\n",
    "    \n",
    "    ani.save(\"trial_run.mp4\")\n",
    "\n",
    "pos = (5., 10.)\n",
    "v = 2.\n",
    "\n",
    "lunar_lander(pos, v)"
   ]
  }
 ],
 "metadata": {
  "kernelspec": {
   "display_name": "Python 3",
   "language": "python",
   "name": "python3"
  },
  "language_info": {
   "codemirror_mode": {
    "name": "ipython",
    "version": 3
   },
   "file_extension": ".py",
   "mimetype": "text/x-python",
   "name": "python",
   "nbconvert_exporter": "python",
   "pygments_lexer": "ipython3",
   "version": "3.10.12"
  }
 },
 "nbformat": 4,
 "nbformat_minor": 2
}
