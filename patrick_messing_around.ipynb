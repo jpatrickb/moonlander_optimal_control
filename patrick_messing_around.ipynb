{
 "cells": [
  {
   "cell_type": "code",
   "id": "initial_id",
   "metadata": {
    "collapsed": true,
    "ExecuteTime": {
     "end_time": "2025-04-05T07:07:52.823269Z",
     "start_time": "2025-04-05T07:07:52.451848Z"
    }
   },
   "source": [
    "import numpy as np\n",
    "from scipy.integrate import solve_bvp\n",
    "import matplotlib.pyplot as plt\n",
    "from matplotlib.animation import FuncAnimation\n",
    "from matplotlib import animation\n",
    "from lunar import LunarLander\n",
    "\n",
    "animation.writer = animation.writers['ffmpeg']"
   ],
   "outputs": [],
   "execution_count": 2
  },
  {
   "metadata": {
    "ExecuteTime": {
     "end_time": "2025-04-05T07:08:45.054681Z",
     "start_time": "2025-04-05T07:08:44.854005Z"
    }
   },
   "cell_type": "code",
   "source": [
    "lunarlander = LunarLander([5, 10], 1)\n",
    "lunarlander.find_path()"
   ],
   "id": "b5ade32ccc7b375f",
   "outputs": [
    {
     "ename": "ValueError",
     "evalue": "`p` must be 1 dimensional.",
     "output_type": "error",
     "traceback": [
      "\u001B[0;31m---------------------------------------------------------------------------\u001B[0m",
      "\u001B[0;31mValueError\u001B[0m                                Traceback (most recent call last)",
      "Cell \u001B[0;32mIn[4], line 2\u001B[0m\n\u001B[1;32m      1\u001B[0m lunarlander \u001B[38;5;241m=\u001B[39m LunarLander([\u001B[38;5;241m5\u001B[39m, \u001B[38;5;241m10\u001B[39m], \u001B[38;5;241m1\u001B[39m)\n\u001B[0;32m----> 2\u001B[0m \u001B[43mlunarlander\u001B[49m\u001B[38;5;241;43m.\u001B[39;49m\u001B[43mfind_path\u001B[49m\u001B[43m(\u001B[49m\u001B[43m)\u001B[49m\n",
      "File \u001B[0;32m~/Documents/byu/acme/volume4/moonlander_optimal_control/lunar.py:140\u001B[0m, in \u001B[0;36mLunarLander.find_path\u001B[0;34m(self, tf_guess, max_nodes)\u001B[0m\n\u001B[1;32m    137\u001B[0m init_guess[\u001B[38;5;241m2\u001B[39m] \u001B[38;5;241m=\u001B[39m np\u001B[38;5;241m.\u001B[39mlinspace(\u001B[38;5;28mself\u001B[39m\u001B[38;5;241m.\u001B[39mv0, \u001B[38;5;241m0\u001B[39m, \u001B[38;5;28mself\u001B[39m\u001B[38;5;241m.\u001B[39mt_steps)\n\u001B[1;32m    139\u001B[0m \u001B[38;5;66;03m# Solve the state/costate equation\u001B[39;00m\n\u001B[0;32m--> 140\u001B[0m sol \u001B[38;5;241m=\u001B[39m \u001B[43msolve_bvp\u001B[49m\u001B[43m(\u001B[49m\u001B[38;5;28;43mself\u001B[39;49m\u001B[38;5;241;43m.\u001B[39;49m\u001B[43mevolution_ode\u001B[49m\u001B[43m,\u001B[49m\u001B[43m \u001B[49m\u001B[38;5;28;43mself\u001B[39;49m\u001B[38;5;241;43m.\u001B[39;49m\u001B[43mboundary_condition\u001B[49m\u001B[43m,\u001B[49m\u001B[43m \u001B[49m\u001B[43mt_eval\u001B[49m\u001B[43m,\u001B[49m\u001B[43m \u001B[49m\u001B[43minit_guess\u001B[49m\u001B[43m,\u001B[49m\u001B[43m \u001B[49m\u001B[43mp\u001B[49m\u001B[38;5;241;43m=\u001B[39;49m\u001B[43mtf_guess\u001B[49m\u001B[43m,\u001B[49m\u001B[43m \u001B[49m\u001B[43mmax_nodes\u001B[49m\u001B[38;5;241;43m=\u001B[39;49m\u001B[43mmax_nodes\u001B[49m\u001B[43m)\u001B[49m\n\u001B[1;32m    142\u001B[0m \u001B[38;5;66;03m# Convert solution into dataframe\u001B[39;00m\n\u001B[1;32m    143\u001B[0m state_vals \u001B[38;5;241m=\u001B[39m pd\u001B[38;5;241m.\u001B[39mDataFrame(sol\u001B[38;5;241m.\u001B[39my[:\u001B[38;5;241m4\u001B[39m, :]\u001B[38;5;241m.\u001B[39mT, columns\u001B[38;5;241m=\u001B[39m[\u001B[38;5;124m'\u001B[39m\u001B[38;5;124mx\u001B[39m\u001B[38;5;124m'\u001B[39m, \u001B[38;5;124m'\u001B[39m\u001B[38;5;124my\u001B[39m\u001B[38;5;124m'\u001B[39m, \u001B[38;5;124m'\u001B[39m\u001B[38;5;124mxp\u001B[39m\u001B[38;5;124m'\u001B[39m, \u001B[38;5;124m'\u001B[39m\u001B[38;5;124myp\u001B[39m\u001B[38;5;124m'\u001B[39m])\n",
      "File \u001B[0;32m/opt/homebrew/lib/python3.10/site-packages/scipy/integrate/_bvp.py:1025\u001B[0m, in \u001B[0;36msolve_bvp\u001B[0;34m(fun, bc, x, y, p, S, fun_jac, bc_jac, tol, max_nodes, verbose, bc_tol)\u001B[0m\n\u001B[1;32m   1023\u001B[0m     p \u001B[38;5;241m=\u001B[39m np\u001B[38;5;241m.\u001B[39masarray(p, dtype\u001B[38;5;241m=\u001B[39mdtype)\n\u001B[1;32m   1024\u001B[0m \u001B[38;5;28;01mif\u001B[39;00m p\u001B[38;5;241m.\u001B[39mndim \u001B[38;5;241m!=\u001B[39m \u001B[38;5;241m1\u001B[39m:\n\u001B[0;32m-> 1025\u001B[0m     \u001B[38;5;28;01mraise\u001B[39;00m \u001B[38;5;167;01mValueError\u001B[39;00m(\u001B[38;5;124m\"\u001B[39m\u001B[38;5;124m`p` must be 1 dimensional.\u001B[39m\u001B[38;5;124m\"\u001B[39m)\n\u001B[1;32m   1027\u001B[0m \u001B[38;5;28;01mif\u001B[39;00m tol \u001B[38;5;241m<\u001B[39m \u001B[38;5;241m100\u001B[39m \u001B[38;5;241m*\u001B[39m EPS:\n\u001B[1;32m   1028\u001B[0m     warn(\u001B[38;5;124m\"\u001B[39m\u001B[38;5;124m`tol` is too low, setting to \u001B[39m\u001B[38;5;132;01m{:.2e}\u001B[39;00m\u001B[38;5;124m\"\u001B[39m\u001B[38;5;241m.\u001B[39mformat(\u001B[38;5;241m100\u001B[39m \u001B[38;5;241m*\u001B[39m EPS))\n",
      "\u001B[0;31mValueError\u001B[0m: `p` must be 1 dimensional."
     ]
    }
   ],
   "execution_count": 4
  },
  {
   "metadata": {},
   "cell_type": "code",
   "outputs": [],
   "execution_count": null,
   "source": "",
   "id": "f8b591f6ffebffc6"
  }
 ],
 "metadata": {
  "kernelspec": {
   "display_name": "Python 3",
   "language": "python",
   "name": "python3"
  },
  "language_info": {
   "codemirror_mode": {
    "name": "ipython",
    "version": 2
   },
   "file_extension": ".py",
   "mimetype": "text/x-python",
   "name": "python",
   "nbconvert_exporter": "python",
   "pygments_lexer": "ipython2",
   "version": "2.7.6"
  }
 },
 "nbformat": 4,
 "nbformat_minor": 5
}
